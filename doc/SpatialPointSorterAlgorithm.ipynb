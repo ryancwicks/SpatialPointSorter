{
 "cells": [
  {
   "cell_type": "markdown",
   "metadata": {},
   "source": [
    "# Spatial Point Sorter Algorithm Description\n",
    "\n",
    "Given a list of (x, y, z) irregular points in 3-d space (ie. there is no rotational symmety in the points), and an equivalent list of points that has been re-ordered and then transformed by some rigid body transformation (SO3 or SE3 group transformation), this algorithm will return the two lists or points with the second list ordered the same way as the first.\n",
    "\n",
    "This tool is used as a first step in finding the transformation between co-ordinate systems used by different measurement tools that use different co-ordinate systems.\n",
    "\n",
    "## The Algorithm\n",
    "\n",
    "For every point in each set and create two vectors with the remaining points. Dot product them with each other, sort the results and put them into another list. This list is the fingerprint of the point. This is repeated for every point in each set. The \"fingerprints\" for the points in each set are subtracted from each other and summed, and the minimum value is the correspondance between the two datasets.\n",
    "\n",
    "Given a set of points $\\mathbf{a}_1, \\mathbf{a}_2, \\mathbf{a}_3,...$, calculate the values of the matrix below, and then flatten and sort the result:\n",
    "\n",
    "$$\n",
    "\\begin {eqnarray}\n",
    "    \\mathbf{v}_{ij} & = & \\mathbf{a}_j - \\mathbf{a}_i \\\\\n",
    "    F_k & = & \\begin{bmatrix}  \n",
    "        0 & \\mathbf{v}_{12} \\cdot \\mathbf{v}_{13} & \\mathbf{v}_{12} \\cdot \\mathbf{v}_{14} & \\dots & \\mathbf{v}_{12} \\cdot \\mathbf{v}_{1j} \\\\\n",
    "        0 & 0 & \\mathbf{v}_{23} \\cdot \\mathbf{v}_{24} & \\dots & \\mathbf{v}_{23} \\cdot \\mathbf{v}_{2j} \\\\\n",
    "        \\vdots & \\vdots & \\vdots & \\ddots & \\vdots \\\\\n",
    "        0 & 0 & 0 & \\dots & \\mathbf{v}_{i-1j-1} \\cdot \\mathbf{v}_{i-1j}\n",
    "    \\end{bmatrix}  \n",
    "\\end {eqnarray}\n",
    "$$\n",
    "\n",
    "Repeat this exercise for every point in each dataset to generate the fingerprint for each point. Then subtract each fingerprint from the fingerprint of ever point in the other dataset, sum the square of the difference, and find the minimum value to choose the correspondence."
   ]
  },
  {
   "cell_type": "code",
   "execution_count": null,
   "metadata": {},
   "outputs": [],
   "source": []
  }
 ],
 "metadata": {
  "kernelspec": {
   "display_name": "Python 3",
   "language": "python",
   "name": "python3"
  },
  "language_info": {
   "codemirror_mode": {
    "name": "ipython",
    "version": 3
   },
   "file_extension": ".py",
   "mimetype": "text/x-python",
   "name": "python",
   "nbconvert_exporter": "python",
   "pygments_lexer": "ipython3",
   "version": "3.5.2"
  }
 },
 "nbformat": 4,
 "nbformat_minor": 2
}
